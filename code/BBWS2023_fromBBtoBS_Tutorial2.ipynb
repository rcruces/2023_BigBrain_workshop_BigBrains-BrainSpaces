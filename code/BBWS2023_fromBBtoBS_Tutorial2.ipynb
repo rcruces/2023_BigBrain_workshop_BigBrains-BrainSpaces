{
 "cells": [
  {
   "cell_type": "markdown",
   "id": "ebd1a175",
   "metadata": {},
   "source": [
    "<div style=\"text-align: right\">\n",
    "    <img src=\"img/BBWS2023_cropped.png\" alt=\"\" width=\"1200\" id=\"hp\"/>\n",
    "</div>\n",
    "\n",
    "# Tutorial 2: Correspondence between qT1 variations and myeloarchitectonic mapping from BigBrain \n",
    "\n",
    "🇮🇸 7th BigBrain Workshop, Reykjavík, Iceland, October 4 2023. By HBHL\n",
    "\n",
    "**Content creators:** Jessica Royer, RaulR. Cruces, Boris Bernhardt. MICA lab\n",
    "\n",
    "## 🐳 Tutorial Objectives\n",
    "\n",
    "Estimated timing of tutorial: 40 minutes\n",
    "\n",
    "### 🌋 From BigBrain mlyeloarchitetonic to MRI Resting-state/qT1 contextualization\n",
    "1. In this notebook we'll use the **BigBrain** to predict something\n",
    "2. **Align** MICs to BigBrain gradients\n",
    "2. We will set up a **Linear model** usin BrainStat corrected by rtf \n",
    "3. **Contextualize** the BigBrain histological classes with Resting-state from MICs\n",
    "\n",
    "\n",
    "### 🏔️ Overview:\n",
    "\n",
    "1. Do something\n"
   ]
  },
  {
   "cell_type": "markdown",
   "id": "0c0eed28",
   "metadata": {},
   "source": [
    "# Aligned gradients"
   ]
  },
  {
   "cell_type": "code",
   "execution_count": null,
   "id": "9683a185",
   "metadata": {},
   "outputs": [],
   "source": [
    "Gmax=[]\n",
    "for i in range(MPC.shape[2]):\n",
    "    # Calculate individual gradient aligned to HIST\n",
    "    Subjgm = GradientMaps(n_components=Ngrad, alignment='procrustes', kernel='normalized_angle')\n",
    "    Subjgm.fit(MPC[:,:,i], sparsity=0.9, reference=gradient_map.gradients_)\n",
    "    \n",
    "\n",
    "    # Correlate the first 5 gradients\n",
    "    corr = np.corrcoef(Subjgm.aligned_, gradient_map.gradients_, rowvar=False)\n",
    "    Gmax.append(np.max(corr[:5,5:]))\n",
    "    # get the highest correlation valueand the subject\n",
    "    print('Subject: ' +str(i) + ' Gmax: ' + str(Gmax[i]))\n",
    "\n",
    "    "
   ]
  }
 ],
 "metadata": {
  "kernelspec": {
   "display_name": "Python 3 (ipykernel)",
   "language": "python",
   "name": "python3"
  },
  "language_info": {
   "codemirror_mode": {
    "name": "ipython",
    "version": 3
   },
   "file_extension": ".py",
   "mimetype": "text/x-python",
   "name": "python",
   "nbconvert_exporter": "python",
   "pygments_lexer": "ipython3",
   "version": "3.9.13"
  }
 },
 "nbformat": 4,
 "nbformat_minor": 5
}
