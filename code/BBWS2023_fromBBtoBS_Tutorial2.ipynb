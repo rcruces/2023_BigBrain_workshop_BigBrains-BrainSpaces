{
 "cells": [
  {
   "cell_type": "markdown",
   "id": "ebd1a175",
   "metadata": {},
   "source": [
    "<div style=\"text-align: right\">\n",
    "    <img src=\"img/BBWS2023_cropped.png\" alt=\"\" width=\"1200\" id=\"hp\"/>\n",
    "</div>\n",
    "\n",
    "# Tutorial 2: Correspondence between qT1 variations and myeloarchitectonic mapping from BigBrain \n",
    "\n",
    "🇮🇸 7th BigBrain Workshop, Reykjavík, Iceland, October 4 2023. By HBHL\n",
    "\n",
    "**Content creators:** Jessica Royer, RaulR. Cruces, Boris Bernhardt. MICA lab\n",
    "\n",
    "## 🐳 Tutorial Objectives\n",
    "\n",
    "Estimated timing of tutorial: 40 minutes\n",
    "\n",
    "### 🌋 From BigBrain mlyeloarchitetonic to MRI Resting-state/qT1 contextualization\n",
    "1. In this notebook we'll use the BigBrain to predict something\n",
    "\n",
    "\n",
    "### 🏔️ Overview:\n",
    "\n",
    "1. Do something\n"
   ]
  },
  {
   "cell_type": "code",
   "execution_count": null,
   "id": "e04ca319",
   "metadata": {},
   "outputs": [],
   "source": []
  }
 ],
 "metadata": {
  "kernelspec": {
   "display_name": "Python 3 (ipykernel)",
   "language": "python",
   "name": "python3"
  },
  "language_info": {
   "codemirror_mode": {
    "name": "ipython",
    "version": 3
   },
   "file_extension": ".py",
   "mimetype": "text/x-python",
   "name": "python",
   "nbconvert_exporter": "python",
   "pygments_lexer": "ipython3",
   "version": "3.9.13"
  }
 },
 "nbformat": 4,
 "nbformat_minor": 5
}
